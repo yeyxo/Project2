{
  "nbformat": 4,
  "nbformat_minor": 0,
  "metadata": {
    "colab": {
      "name": "Katy Perry .ipynb",
      "provenance": [],
      "collapsed_sections": [],
      "authorship_tag": "ABX9TyMWaMYvfJGcIkOHg7wjJLxQ",
      "include_colab_link": true
    },
    "kernelspec": {
      "name": "python3",
      "display_name": "Python 3"
    },
    "language_info": {
      "name": "python"
    }
  },
  "cells": [
    {
      "cell_type": "markdown",
      "metadata": {
        "id": "view-in-github",
        "colab_type": "text"
      },
      "source": [
        "<a href=\"https://colab.research.google.com/github/yeyxo/Project2/blob/main/Katy_Perry_.ipynb\" target=\"_parent\"><img src=\"https://colab.research.google.com/assets/colab-badge.svg\" alt=\"Open In Colab\"/></a>"
      ]
    },
    {
      "cell_type": "markdown",
      "metadata": {
        "id": "E4GK9NVxWX4Q"
      },
      "source": [
        "**Applying the Random Forest Classifer**\n",
        "\n"
      ]
    },
    {
      "cell_type": "code",
      "metadata": {
        "id": "0J_HUJ4cb5nE"
      },
      "source": [
        "!pip install -U -q PyDrive\n",
        "  \n",
        "from pydrive.auth import GoogleAuth\n",
        "from pydrive.drive import GoogleDrive\n",
        "from google.colab import auth\n",
        "from oauth2client.client import GoogleCredentials\n",
        "  \n",
        "  \n",
        "# Authenticate and create the PyDrive client.\n",
        "auth.authenticate_user()\n",
        "gauth = GoogleAuth()\n",
        "gauth.credentials = GoogleCredentials.get_application_default()\n",
        "drive = GoogleDrive(gauth)"
      ],
      "execution_count": null,
      "outputs": []
    },
    {
      "cell_type": "code",
      "metadata": {
        "id": "LJsGO5JCaReb"
      },
      "source": [
        "#import the KatyPerry data\n",
        "\n",
        "link = 'https://drive.google.com/file/d/1cuEP5AlaPL6hs1LWM97L41cFIJrJHAgq/view?usp=sharing'\n",
        "  \n",
        "# to get the id part of the file\n",
        "id = link.split(\"/\")[-2]\n",
        "  \n",
        "downloaded = drive.CreateFile({'id':id}) \n",
        "downloaded.GetContentFile('KatyPerry.csv') "
      ],
      "execution_count": null,
      "outputs": []
    },
    {
      "cell_type": "code",
      "metadata": {
        "colab": {
          "base_uri": "https://localhost:8080/",
          "height": 204
        },
        "id": "bvccabAKcGk8",
        "outputId": "bd99a572-efe3-4472-e6f5-66d122988186"
      },
      "source": [
        "import pandas as pd\n",
        "import numpy as np\n",
        "import scipy\n",
        "import gensim\n",
        "import re\n",
        "#1=spam 0=comment\n",
        "KatyPerry = pd.read_csv('KatyPerry.csv')\n",
        "KatyPerry.head()\n"
      ],
      "execution_count": null,
      "outputs": [
        {
          "output_type": "execute_result",
          "data": {
            "text/html": [
              "<div>\n",
              "<style scoped>\n",
              "    .dataframe tbody tr th:only-of-type {\n",
              "        vertical-align: middle;\n",
              "    }\n",
              "\n",
              "    .dataframe tbody tr th {\n",
              "        vertical-align: top;\n",
              "    }\n",
              "\n",
              "    .dataframe thead th {\n",
              "        text-align: right;\n",
              "    }\n",
              "</style>\n",
              "<table border=\"1\" class=\"dataframe\">\n",
              "  <thead>\n",
              "    <tr style=\"text-align: right;\">\n",
              "      <th></th>\n",
              "      <th>COMMENT_ID</th>\n",
              "      <th>AUTHOR</th>\n",
              "      <th>DATE</th>\n",
              "      <th>CONTENT</th>\n",
              "      <th>CLASS</th>\n",
              "    </tr>\n",
              "  </thead>\n",
              "  <tbody>\n",
              "    <tr>\n",
              "      <th>0</th>\n",
              "      <td>z12pgdhovmrktzm3i23es5d5junftft3f</td>\n",
              "      <td>lekanaVEVO1</td>\n",
              "      <td>2014-07-22T15:27:50</td>\n",
              "      <td>i love this so much. AND also I Generate Free ...</td>\n",
              "      <td>1</td>\n",
              "    </tr>\n",
              "    <tr>\n",
              "      <th>1</th>\n",
              "      <td>z13yx345uxepetggz04ci5rjcxeohzlrtf4</td>\n",
              "      <td>Pyunghee</td>\n",
              "      <td>2014-07-27T01:57:16</td>\n",
              "      <td>http://www.billboard.com/articles/columns/pop-...</td>\n",
              "      <td>1</td>\n",
              "    </tr>\n",
              "    <tr>\n",
              "      <th>2</th>\n",
              "      <td>z12lsjvi3wa5x1vwh04cibeaqnzrevxajw00k</td>\n",
              "      <td>Erica Ross</td>\n",
              "      <td>2014-07-27T02:51:43</td>\n",
              "      <td>Hey guys! Please join me in my fight to help a...</td>\n",
              "      <td>1</td>\n",
              "    </tr>\n",
              "    <tr>\n",
              "      <th>3</th>\n",
              "      <td>z13jcjuovxbwfr0ge04cev2ipsjdfdurwck</td>\n",
              "      <td>Aviel Haimov</td>\n",
              "      <td>2014-08-01T12:27:48</td>\n",
              "      <td>http://psnboss.com/?ref=2tGgp3pV6L this is the...</td>\n",
              "      <td>1</td>\n",
              "    </tr>\n",
              "    <tr>\n",
              "      <th>4</th>\n",
              "      <td>z13qybua2yfydzxzj04cgfpqdt2syfx53ms0k</td>\n",
              "      <td>John Bello</td>\n",
              "      <td>2014-08-01T21:04:03</td>\n",
              "      <td>Hey everyone. Watch this trailer!!!!!!!!  http...</td>\n",
              "      <td>1</td>\n",
              "    </tr>\n",
              "  </tbody>\n",
              "</table>\n",
              "</div>"
            ],
            "text/plain": [
              "                              COMMENT_ID  ... CLASS\n",
              "0      z12pgdhovmrktzm3i23es5d5junftft3f  ...     1\n",
              "1    z13yx345uxepetggz04ci5rjcxeohzlrtf4  ...     1\n",
              "2  z12lsjvi3wa5x1vwh04cibeaqnzrevxajw00k  ...     1\n",
              "3    z13jcjuovxbwfr0ge04cev2ipsjdfdurwck  ...     1\n",
              "4  z13qybua2yfydzxzj04cgfpqdt2syfx53ms0k  ...     1\n",
              "\n",
              "[5 rows x 5 columns]"
            ]
          },
          "metadata": {
            "tags": []
          },
          "execution_count": 7
        }
      ]
    },
    {
      "cell_type": "code",
      "metadata": {
        "colab": {
          "base_uri": "https://localhost:8080/",
          "height": 204
        },
        "id": "vD4T9bvXaioD",
        "outputId": "9cbc9e0b-6596-4ff4-f983-c8d38be0ac9a"
      },
      "source": [
        "KatyPerry = pd.read_csv('KatyPerry.csv', usecols = ['CLASS', 'CONTENT'])\n",
        "KatyPerry.head()"
      ],
      "execution_count": null,
      "outputs": [
        {
          "output_type": "execute_result",
          "data": {
            "text/html": [
              "<div>\n",
              "<style scoped>\n",
              "    .dataframe tbody tr th:only-of-type {\n",
              "        vertical-align: middle;\n",
              "    }\n",
              "\n",
              "    .dataframe tbody tr th {\n",
              "        vertical-align: top;\n",
              "    }\n",
              "\n",
              "    .dataframe thead th {\n",
              "        text-align: right;\n",
              "    }\n",
              "</style>\n",
              "<table border=\"1\" class=\"dataframe\">\n",
              "  <thead>\n",
              "    <tr style=\"text-align: right;\">\n",
              "      <th></th>\n",
              "      <th>CONTENT</th>\n",
              "      <th>CLASS</th>\n",
              "    </tr>\n",
              "  </thead>\n",
              "  <tbody>\n",
              "    <tr>\n",
              "      <th>0</th>\n",
              "      <td>i love this so much. AND also I Generate Free ...</td>\n",
              "      <td>1</td>\n",
              "    </tr>\n",
              "    <tr>\n",
              "      <th>1</th>\n",
              "      <td>http://www.billboard.com/articles/columns/pop-...</td>\n",
              "      <td>1</td>\n",
              "    </tr>\n",
              "    <tr>\n",
              "      <th>2</th>\n",
              "      <td>Hey guys! Please join me in my fight to help a...</td>\n",
              "      <td>1</td>\n",
              "    </tr>\n",
              "    <tr>\n",
              "      <th>3</th>\n",
              "      <td>http://psnboss.com/?ref=2tGgp3pV6L this is the...</td>\n",
              "      <td>1</td>\n",
              "    </tr>\n",
              "    <tr>\n",
              "      <th>4</th>\n",
              "      <td>Hey everyone. Watch this trailer!!!!!!!!  http...</td>\n",
              "      <td>1</td>\n",
              "    </tr>\n",
              "  </tbody>\n",
              "</table>\n",
              "</div>"
            ],
            "text/plain": [
              "                                             CONTENT  CLASS\n",
              "0  i love this so much. AND also I Generate Free ...      1\n",
              "1  http://www.billboard.com/articles/columns/pop-...      1\n",
              "2  Hey guys! Please join me in my fight to help a...      1\n",
              "3  http://psnboss.com/?ref=2tGgp3pV6L this is the...      1\n",
              "4  Hey everyone. Watch this trailer!!!!!!!!  http...      1"
            ]
          },
          "metadata": {
            "tags": []
          },
          "execution_count": 103
        }
      ]
    },
    {
      "cell_type": "markdown",
      "metadata": {
        "id": "jQOL1xUHWntO"
      },
      "source": [
        "Cleaning up the content colum by removing punctuation\n",
        "\n"
      ]
    },
    {
      "cell_type": "code",
      "metadata": {
        "colab": {
          "base_uri": "https://localhost:8080/",
          "height": 456
        },
        "id": "WSVRIWVFTzcO",
        "outputId": "ab7c3a59-873a-4e87-805b-2e936ca6e54c"
      },
      "source": [
        "from gensim.parsing.preprocessing import remove_stopwords, STOPWORDS\n",
        "print(STOPWORDS)\n",
        "import string \n",
        "KatyPerry['CONTENT']=[re.sub(r'\\W',' ',str(x)) for x in KatyPerry['CONTENT']]\n",
        "KatyPerry['CONTENT'] = KatyPerry['CONTENT'].str.replace(r'[^\\w\\s]+', '')\n",
        "KatyPerry"
      ],
      "execution_count": null,
      "outputs": [
        {
          "output_type": "stream",
          "text": [
            "frozenset({'into', 'here', 'towards', 'behind', 'ever', 'moreover', 'wherever', 'whom', 'done', 'never', 'make', 'had', 'were', 'beforehand', 'will', 'very', 'keep', 'himself', 'i', 'sincere', 'another', 'hundred', 'but', 'as', 'hence', 'that', 'take', 'across', 'then', 'doesn', 'find', 'down', 'being', 'while', 'didn', 'top', 'has', 'my', 'eg', 'except', 'become', 'themselves', 'kg', 'your', 'neither', 'sixty', 'nowhere', 'this', 'out', 'namely', 'at', 'once', 'he', 'with', 'was', 'much', 'myself', 'well', 'against', 'can', 'which', 'made', 'everywhere', 'whole', 'becoming', 'be', 'itself', 'two', 'should', 'have', 'both', 'would', 'km', 'hasnt', 'amongst', 'detail', 'why', 'since', 'on', 'the', 'five', 'me', 'formerly', 'rather', 'thru', 'are', 'cry', 'less', 'because', 'none', 'also', 'between', 'show', 'due', 'de', 'somehow', 'besides', 'if', 'elsewhere', 'first', 'fire', 'say', 'off', 'along', 'already', 'three', 'therefore', 'seem', 'others', 'latterly', 'although', 'these', 'up', 'anyhow', 'over', 'move', 'anyway', 'thence', 'twelve', 'she', 'its', 'than', 'often', 'un', 'from', 'quite', 'thick', 'doing', 'onto', 'whereupon', 'within', 'thereafter', 'we', 'herself', 'call', 'may', 'beyond', 'same', 'co', 'ours', 'amount', 'our', 'most', 'forty', 'amoungst', 'one', 'where', 'etc', 'must', 'inc', 'those', 'of', 'sometimes', 'still', 'some', 'an', 'yet', 'whereas', 'around', 'bill', 'afterwards', 'noone', 'unless', 'or', 'so', 'thereupon', 'thus', 'beside', 'whose', 'it', 'give', 'in', 'under', 'wherein', 'further', 'third', 'really', 'whoever', 'fill', 'who', 'least', 'after', 'could', 'latter', 'until', 'too', 'alone', 'might', 'a', 'herein', 'nobody', 'describe', 'using', 'ourselves', 'seemed', 'hereby', 'system', 'been', 'front', 'upon', 'they', 'other', 'him', 'get', 'by', 'many', 'and', 'anywhere', 'nor', 'hereafter', 'meanwhile', 'enough', 'empty', 'four', 'part', 'few', 'whereby', 'through', 'hers', 'there', 'nine', 'for', 'thereby', 'bottom', 'does', 'cannot', 'former', 'everything', 'hereupon', 'per', 'whenever', 'thin', 'almost', 'anyone', 'us', 'yourself', 'eight', 'only', 'whereafter', 'own', 'became', 'though', 'somewhere', 'do', 'someone', 'side', 'to', 'among', 'without', 'am', 'however', 'again', 'now', 'every', 'con', 'something', 'therein', 'cant', 'becomes', 'please', 'six', 'anything', 'found', 'ltd', 'fifteen', 'nothing', 'you', 'mill', 'above', 'not', 're', 'used', 'any', 'via', 'name', 'toward', 'their', 'computer', 'yours', 'fify', 'nevertheless', 'indeed', 'next', 'eleven', 'during', 'back', 'whatever', 'either', 'her', 'whence', 'ie', 'yourselves', 'regarding', 'go', 'see', 'otherwise', 'below', 'about', 'even', 'his', 'more', 'perhaps', 'them', 'what', 'together', 'did', 'ten', 'how', 'such', 'just', 'several', 'whither', 'seeming', 'mostly', 'throughout', 'no', 'when', 'always', 'various', 'is', 'serious', 'twenty', 'seems', 'before', 'else', 'couldnt', 'everyone', 'interest', 'last', 'all', 'don', 'put', 'whether', 'sometime', 'mine', 'each', 'full'})\n"
          ],
          "name": "stdout"
        },
        {
          "output_type": "execute_result",
          "data": {
            "text/html": [
              "<div>\n",
              "<style scoped>\n",
              "    .dataframe tbody tr th:only-of-type {\n",
              "        vertical-align: middle;\n",
              "    }\n",
              "\n",
              "    .dataframe tbody tr th {\n",
              "        vertical-align: top;\n",
              "    }\n",
              "\n",
              "    .dataframe thead th {\n",
              "        text-align: right;\n",
              "    }\n",
              "</style>\n",
              "<table border=\"1\" class=\"dataframe\">\n",
              "  <thead>\n",
              "    <tr style=\"text-align: right;\">\n",
              "      <th></th>\n",
              "      <th>COMMENT_ID</th>\n",
              "      <th>AUTHOR</th>\n",
              "      <th>DATE</th>\n",
              "      <th>CONTENT</th>\n",
              "      <th>CLASS</th>\n",
              "    </tr>\n",
              "  </thead>\n",
              "  <tbody>\n",
              "    <tr>\n",
              "      <th>0</th>\n",
              "      <td>z12pgdhovmrktzm3i23es5d5junftft3f</td>\n",
              "      <td>lekanaVEVO1</td>\n",
              "      <td>2014-07-22T15:27:50</td>\n",
              "      <td>i love this so much  AND also I Generate Free ...</td>\n",
              "      <td>1</td>\n",
              "    </tr>\n",
              "    <tr>\n",
              "      <th>1</th>\n",
              "      <td>z13yx345uxepetggz04ci5rjcxeohzlrtf4</td>\n",
              "      <td>Pyunghee</td>\n",
              "      <td>2014-07-27T01:57:16</td>\n",
              "      <td>http   www billboard com articles columns pop ...</td>\n",
              "      <td>1</td>\n",
              "    </tr>\n",
              "    <tr>\n",
              "      <th>2</th>\n",
              "      <td>z12lsjvi3wa5x1vwh04cibeaqnzrevxajw00k</td>\n",
              "      <td>Erica Ross</td>\n",
              "      <td>2014-07-27T02:51:43</td>\n",
              "      <td>Hey guys  Please join me in my fight to help a...</td>\n",
              "      <td>1</td>\n",
              "    </tr>\n",
              "    <tr>\n",
              "      <th>3</th>\n",
              "      <td>z13jcjuovxbwfr0ge04cev2ipsjdfdurwck</td>\n",
              "      <td>Aviel Haimov</td>\n",
              "      <td>2014-08-01T12:27:48</td>\n",
              "      <td>http   psnboss com  ref 2tGgp3pV6L this is the...</td>\n",
              "      <td>1</td>\n",
              "    </tr>\n",
              "    <tr>\n",
              "      <th>4</th>\n",
              "      <td>z13qybua2yfydzxzj04cgfpqdt2syfx53ms0k</td>\n",
              "      <td>John Bello</td>\n",
              "      <td>2014-08-01T21:04:03</td>\n",
              "      <td>Hey everyone  Watch this trailer          http...</td>\n",
              "      <td>1</td>\n",
              "    </tr>\n",
              "    <tr>\n",
              "      <th>...</th>\n",
              "      <td>...</td>\n",
              "      <td>...</td>\n",
              "      <td>...</td>\n",
              "      <td>...</td>\n",
              "      <td>...</td>\n",
              "    </tr>\n",
              "    <tr>\n",
              "      <th>345</th>\n",
              "      <td>z12sjp3zgtqnvlysj23zuxxaolrvd1oj504</td>\n",
              "      <td>Kacy Cluley</td>\n",
              "      <td>2015-06-05T18:59:52</td>\n",
              "      <td>This song means so much to me thank you  soooo...</td>\n",
              "      <td>0</td>\n",
              "    </tr>\n",
              "    <tr>\n",
              "      <th>346</th>\n",
              "      <td>z132enrpoy35yxpoe04cjr4zur3jvbyq3xo0k</td>\n",
              "      <td>Kasia Fabisiewicz</td>\n",
              "      <td>2015-06-05T19:02:05</td>\n",
              "      <td>lt 3</td>\n",
              "      <td>0</td>\n",
              "    </tr>\n",
              "    <tr>\n",
              "      <th>347</th>\n",
              "      <td>z132jbmxfqm4fjysg23nwjfb2mv2vxnua</td>\n",
              "      <td>Decio Alves Martins</td>\n",
              "      <td>2015-06-05T19:29:20</td>\n",
              "      <td>KATY PERRY  I AM THE  DÉCIO CABELO    DECIO HA...</td>\n",
              "      <td>1</td>\n",
              "    </tr>\n",
              "    <tr>\n",
              "      <th>348</th>\n",
              "      <td>z12cdlswetvnejcri04cex0jfwy2u3tzj54</td>\n",
              "      <td>Rafi Hossain</td>\n",
              "      <td>2015-06-05T19:55:08</td>\n",
              "      <td>Honestly speaking except taylor swift and adel...</td>\n",
              "      <td>0</td>\n",
              "    </tr>\n",
              "    <tr>\n",
              "      <th>349</th>\n",
              "      <td>z120e5uautvcuper304ccf4bjrjugdpbwrc0k</td>\n",
              "      <td>moaz adnan</td>\n",
              "      <td>2015-06-05T20:01:23</td>\n",
              "      <td>who is going to reach the billion first   katy...</td>\n",
              "      <td>0</td>\n",
              "    </tr>\n",
              "  </tbody>\n",
              "</table>\n",
              "<p>350 rows × 5 columns</p>\n",
              "</div>"
            ],
            "text/plain": [
              "                                COMMENT_ID  ... CLASS\n",
              "0        z12pgdhovmrktzm3i23es5d5junftft3f  ...     1\n",
              "1      z13yx345uxepetggz04ci5rjcxeohzlrtf4  ...     1\n",
              "2    z12lsjvi3wa5x1vwh04cibeaqnzrevxajw00k  ...     1\n",
              "3      z13jcjuovxbwfr0ge04cev2ipsjdfdurwck  ...     1\n",
              "4    z13qybua2yfydzxzj04cgfpqdt2syfx53ms0k  ...     1\n",
              "..                                     ...  ...   ...\n",
              "345    z12sjp3zgtqnvlysj23zuxxaolrvd1oj504  ...     0\n",
              "346  z132enrpoy35yxpoe04cjr4zur3jvbyq3xo0k  ...     0\n",
              "347      z132jbmxfqm4fjysg23nwjfb2mv2vxnua  ...     1\n",
              "348    z12cdlswetvnejcri04cex0jfwy2u3tzj54  ...     0\n",
              "349  z120e5uautvcuper304ccf4bjrjugdpbwrc0k  ...     0\n",
              "\n",
              "[350 rows x 5 columns]"
            ]
          },
          "metadata": {
            "tags": []
          },
          "execution_count": 8
        }
      ]
    },
    {
      "cell_type": "code",
      "metadata": {
        "id": "Nl8zos0SGWTZ"
      },
      "source": [
        "from sklearn.model_selection import train_test_split\n",
        "from sklearn.ensemble import RandomForestClassifier  #Import Random Forest Model\n",
        "from sklearn.feature_extraction.text import CountVectorizer\n",
        "from sklearn.feature_extraction.text import TfidfTransformer\n",
        "from sklearn.feature_extraction.text import TfidfVectorizer\n",
        "from sklearn import metrics\n",
        "\n"
      ],
      "execution_count": null,
      "outputs": []
    },
    {
      "cell_type": "code",
      "metadata": {
        "id": "belp1I8YeFrt"
      },
      "source": [
        "vectorizer = TfidfVectorizer (stop_words=STOPWORDS)\n",
        "features = vectorizer.fit_transform(KatyPerry['CONTENT']).toarray()"
      ],
      "execution_count": null,
      "outputs": []
    },
    {
      "cell_type": "code",
      "metadata": {
        "id": "4JNlHdMuGxA8"
      },
      "source": [
        "from sklearn import preprocessing\n",
        "X = features #Features\n",
        "y = KatyPerry['CLASS'] # Labels\n",
        "\n",
        "X_train, X_test, y_train, y_test = train_test_split(X, y, test_size=0.3) # 70% training and 30% test\n",
        "\n"
      ],
      "execution_count": null,
      "outputs": []
    },
    {
      "cell_type": "code",
      "metadata": {
        "colab": {
          "base_uri": "https://localhost:8080/"
        },
        "id": "HSq_bJ8velLQ",
        "outputId": "d508ad74-4560-4504-834e-e239db0469ca"
      },
      "source": [
        "clf=RandomForestClassifier(n_estimators=100) #Create a Gaussian Classifier\n",
        "\n",
        "clf.fit(X_train,y_train) #Train the model using the training sets y_pred=clf.predict(X_test)\n",
        "\n",
        "y_pred=clf.predict(X_test)\n",
        "\n",
        "print(\"Accuracy:\",metrics.accuracy_score(y_test, y_pred))\n"
      ],
      "execution_count": null,
      "outputs": [
        {
          "output_type": "stream",
          "text": [
            "Accuracy: 0.9047619047619048\n"
          ],
          "name": "stdout"
        }
      ]
    },
    {
      "cell_type": "markdown",
      "metadata": {
        "id": "7ksGy_JpMx5N"
      },
      "source": [
        "### **Apply LIME to explain on the Random Forest Classifer**\n"
      ]
    },
    {
      "cell_type": "code",
      "metadata": {
        "colab": {
          "base_uri": "https://localhost:8080/"
        },
        "id": "f9D6_xSaeE2J",
        "outputId": "90e350af-96cc-432e-fbe1-947fe0cef54c"
      },
      "source": [
        "!pip install lime\n"
      ],
      "execution_count": null,
      "outputs": [
        {
          "output_type": "stream",
          "text": [
            "Requirement already satisfied: lime in /usr/local/lib/python3.7/dist-packages (0.2.0.1)\n",
            "Requirement already satisfied: scikit-image>=0.12 in /usr/local/lib/python3.7/dist-packages (from lime) (0.16.2)\n",
            "Requirement already satisfied: tqdm in /usr/local/lib/python3.7/dist-packages (from lime) (4.41.1)\n",
            "Requirement already satisfied: scipy in /usr/local/lib/python3.7/dist-packages (from lime) (1.4.1)\n",
            "Requirement already satisfied: scikit-learn>=0.18 in /usr/local/lib/python3.7/dist-packages (from lime) (0.22.2.post1)\n",
            "Requirement already satisfied: numpy in /usr/local/lib/python3.7/dist-packages (from lime) (1.19.5)\n",
            "Requirement already satisfied: matplotlib in /usr/local/lib/python3.7/dist-packages (from lime) (3.2.2)\n",
            "Requirement already satisfied: networkx>=2.0 in /usr/local/lib/python3.7/dist-packages (from scikit-image>=0.12->lime) (2.5.1)\n",
            "Requirement already satisfied: pillow>=4.3.0 in /usr/local/lib/python3.7/dist-packages (from scikit-image>=0.12->lime) (7.1.2)\n",
            "Requirement already satisfied: imageio>=2.3.0 in /usr/local/lib/python3.7/dist-packages (from scikit-image>=0.12->lime) (2.4.1)\n",
            "Requirement already satisfied: PyWavelets>=0.4.0 in /usr/local/lib/python3.7/dist-packages (from scikit-image>=0.12->lime) (1.1.1)\n",
            "Requirement already satisfied: joblib>=0.11 in /usr/local/lib/python3.7/dist-packages (from scikit-learn>=0.18->lime) (1.0.1)\n",
            "Requirement already satisfied: pyparsing!=2.0.4,!=2.1.2,!=2.1.6,>=2.0.1 in /usr/local/lib/python3.7/dist-packages (from matplotlib->lime) (2.4.7)\n",
            "Requirement already satisfied: cycler>=0.10 in /usr/local/lib/python3.7/dist-packages (from matplotlib->lime) (0.10.0)\n",
            "Requirement already satisfied: kiwisolver>=1.0.1 in /usr/local/lib/python3.7/dist-packages (from matplotlib->lime) (1.3.1)\n",
            "Requirement already satisfied: python-dateutil>=2.1 in /usr/local/lib/python3.7/dist-packages (from matplotlib->lime) (2.8.1)\n",
            "Requirement already satisfied: decorator<5,>=4.3 in /usr/local/lib/python3.7/dist-packages (from networkx>=2.0->scikit-image>=0.12->lime) (4.4.2)\n",
            "Requirement already satisfied: six in /usr/local/lib/python3.7/dist-packages (from cycler>=0.10->matplotlib->lime) (1.15.0)\n"
          ],
          "name": "stdout"
        }
      ]
    },
    {
      "cell_type": "code",
      "metadata": {
        "id": "34bno38ae8E2"
      },
      "source": [
        "import lime\n",
        "from lime import lime_tabular\n",
        "from sklearn.pipeline import make_pipeline\n",
        "from lime.lime_text import LimeTextExplainer\n",
        "c = make_pipeline(vectorizer,clf)"
      ],
      "execution_count": null,
      "outputs": []
    },
    {
      "cell_type": "code",
      "metadata": {
        "id": "DOLQiq2vmv8g",
        "colab": {
          "base_uri": "https://localhost:8080/"
        },
        "outputId": "4b5550b6-31e2-40a0-bfae-f9beaa66a74f"
      },
      "source": [
        "print(c.predict_proba([KatyPerry['CONTENT'][0]]))"
      ],
      "execution_count": null,
      "outputs": [
        {
          "output_type": "stream",
          "text": [
            "[[0.01 0.99]]\n"
          ],
          "name": "stdout"
        }
      ]
    },
    {
      "cell_type": "code",
      "metadata": {
        "id": "0ke2Ubcup-3o"
      },
      "source": [
        "# 1 is SPAM, 0 is NOT SPAM\n",
        "class_names=[0,1]\n",
        "explainer = LimeTextExplainer(class_names=class_names)"
      ],
      "execution_count": null,
      "outputs": []
    },
    {
      "cell_type": "code",
      "metadata": {
        "colab": {
          "base_uri": "https://localhost:8080/"
        },
        "id": "SYFcmF1CqAZb",
        "outputId": "3df1231f-6a06-4256-ef5b-1f8f0639a18a"
      },
      "source": [
        "idx=5\n",
        "exp = explainer.explain_instance(KatyPerry['CONTENT'][idx], c.predict_proba, num_features=10)\n",
        "print('Document id: %d' % idx)\n",
        "print('Probability(1) =', c.predict_proba([KatyPerry['CONTENT'][idx]])[0, 1])\n",
        "print('True class: %s' % class_names[KatyPerry['CLASS'][idx]])"
      ],
      "execution_count": null,
      "outputs": [
        {
          "output_type": "stream",
          "text": [
            "Document id: 5\n",
            "Probability(1) = 1.0\n",
            "True class: 1\n"
          ],
          "name": "stdout"
        }
      ]
    },
    {
      "cell_type": "code",
      "metadata": {
        "colab": {
          "base_uri": "https://localhost:8080/"
        },
        "id": "mYFJDqtcqLUT",
        "outputId": "2c217272-0ca9-4aa2-a83f-70de45843e0d"
      },
      "source": [
        "exp.as_list()\n"
      ],
      "execution_count": null,
      "outputs": [
        {
          "output_type": "execute_result",
          "data": {
            "text/plain": [
              "[('com', 0.18641177678129453),\n",
              " ('check', 0.1484752887922044),\n",
              " ('https', 0.08903758859325925),\n",
              " ('follow', 0.08574935782824188),\n",
              " ('guys', 0.048970658952833604),\n",
              " ('like', -0.04215813900343762),\n",
              " ('soundcloud', 0.029465424902251725),\n",
              " ('rapper', 0.023566726889415364),\n",
              " ('jkork', 0.016269969581881528),\n",
              " ('hope', 0.014913162672122643)]"
            ]
          },
          "metadata": {
            "tags": []
          },
          "execution_count": 21
        }
      ]
    },
    {
      "cell_type": "code",
      "metadata": {
        "colab": {
          "base_uri": "https://localhost:8080/",
          "height": 281
        },
        "id": "Ro8pbHeHqR3F",
        "outputId": "9a5269d7-348f-4e79-eb36-8188bb33549c"
      },
      "source": [
        "%matplotlib inline\n",
        "fig = exp.as_pyplot_figure()"
      ],
      "execution_count": null,
      "outputs": [
        {
          "output_type": "display_data",
          "data": {
            "image/png": "[encoded data removed]",
            "text/plain": [
              "<Figure size 432x288 with 1 Axes>"
            ]
          },
          "metadata": {
            "tags": [],
            "needs_background": "light"
          }
        }
      ]
    }
  ]
}
